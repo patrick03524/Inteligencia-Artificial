{
  "nbformat": 4,
  "nbformat_minor": 0,
  "metadata": {
    "colab": {
      "name": "SemanticAndInstanceSegmentation.ipynb",
      "provenance": [],
      "authorship_tag": "ABX9TyOVwPL1uTly8zu+i/bjxC/x",
      "include_colab_link": true
    },
    "kernelspec": {
      "name": "python3",
      "display_name": "Python 3"
    }
  },
  "cells": [
    {
      "cell_type": "markdown",
      "metadata": {
        "id": "view-in-github",
        "colab_type": "text"
      },
      "source": [
        "<a href=\"https://colab.research.google.com/github/patrick03524/Inteligencia-Artificial/blob/master/SemanticAndInstanceSegmentation.ipynb\" target=\"_parent\"><img src=\"https://colab.research.google.com/assets/colab-badge.svg\" alt=\"Open In Colab\"/></a>"
      ]
    },
    {
      "cell_type": "code",
      "metadata": {
        "id": "YCye5ubnfDDW"
      },
      "source": [
        "##Definición de Librerias\r\n",
        "\r\n",
        "import pixellib\r\n",
        "from pixellib.semantic import semantic_segmentation\r\n",
        "from pixellib.instance import instance_segmentation"
      ],
      "execution_count": null,
      "outputs": []
    },
    {
      "cell_type": "code",
      "metadata": {
        "id": "WvLQgPK2fQwT"
      },
      "source": [
        "##Semantic Segmentation\r\n",
        "print(\"Semantic Image Segmentation Process...\")\r\n",
        "\r\n",
        "#Definition of semantic_segmentation in pixellib Library\r\n",
        "segment_image = semantic_segmentation()\r\n",
        "\r\n",
        "#Es necesario los pesos de deeplabv3_xception_tf_dim_ordering_tf_kernels.h5\r\n",
        "segment_image.load_pascalvoc_model(\"deeplabv3_xception_tf_dim_ordering_tf_kernels.h5\") \r\n",
        "\r\n",
        "#Semantic Segmentation\r\n",
        "segment_image.segmentAsPascalvoc(\"test7_4.jpg\", output_image_name = \"person_segmentationN.jpg\")\r\n",
        "\r\n",
        "#Semantic Segmentation with image Mask\r\n",
        "segment_image.segmentAsPascalvoc(\"test7_4.jpg\", output_image_name = \"person_segmentationN_Mask.jpg\", overlay = True)\r\n",
        "\r\n",
        "print(\"Done\")\r\n"
      ],
      "execution_count": null,
      "outputs": []
    },
    {
      "cell_type": "code",
      "metadata": {
        "id": "X65DQevkftUq"
      },
      "source": [
        "##Instance Segmentation\r\n",
        "print(\"Instance Image Segmentation Process...\")\r\n",
        "\r\n",
        "#Definition of Instance_segmentation in pixellib Library\r\n",
        "segment_image2 = instance_segmentation()\r\n",
        "\r\n",
        "#Es necesario los pesos de mask_rcnn_coco.h5\r\n",
        "segment_image2.load_model(\"mask_rcnn_coco.h5\") \r\n",
        "\r\n",
        "#Instance Segmentation\r\n",
        "segment_image2.segmentImage(\"test7_4.jpg\", output_image_name = \"person_segmentation_RCNN_N.jpg\")\r\n",
        "\r\n",
        "##Instance Segmentation with object boundary by category\r\n",
        "segment_image2.segmentImage(\"test7_4.jpg\", output_image_name = \"person_segmentation_RCNN_Masked_N.jpg\", show_bboxes = True)\r\n",
        "\r\n",
        "print(\"Done\")"
      ],
      "execution_count": null,
      "outputs": []
    }
  ]
}